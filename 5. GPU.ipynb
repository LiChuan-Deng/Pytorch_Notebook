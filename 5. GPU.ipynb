{
 "metadata": {
  "language_info": {
   "codemirror_mode": {
    "name": "ipython",
    "version": 3
   },
   "file_extension": ".py",
   "mimetype": "text/x-python",
   "name": "python",
   "nbconvert_exporter": "python",
   "pygments_lexer": "ipython3",
   "version": "3.8.5-final"
  },
  "orig_nbformat": 2,
  "kernelspec": {
   "name": "python3",
   "display_name": "Python 3.8.5 64-bit (conda)",
   "metadata": {
    "interpreter": {
     "hash": "bbf726d0b1f933513ea74365d39462104047c8d9bd4636ddbcd10a56e8c32395"
    }
   }
  }
 },
 "nbformat": 4,
 "nbformat_minor": 2,
 "cells": [
  {
   "source": [
    "## Activation Function\n",
    "* Sigmoid\n",
    "* Tanh\n",
    "* ReLU    R(z) = max(0,z)\n",
    "    * Leaky ReLU R(z) = z if z >= 0; R(z) = a * z if z < 0 \n",
    "* SELU\n",
    "    * SELU(X) = scale * (max(0,x) + min(0,a*(e^x - 1))) with a = 1.67326... and scale = 1.05070...\n",
    "* softplus\n",
    "    * Softplus(x) = 1/Beta * log(1 + e^(Beta * x))"
   ],
   "cell_type": "markdown",
   "metadata": {}
  },
  {
   "source": [
    "## GPU accelerated"
   ],
   "cell_type": "markdown",
   "metadata": {}
  },
  {
   "cell_type": "code",
   "execution_count": null,
   "metadata": {},
   "outputs": [],
   "source": [
    "# device = torch.device('cuda:0')\n",
    "# net = MLP().to(device)\n",
    "# optimizer = optim.SGD(net.parameters(), lr=learning_rate)\n",
    "# criteon = torch.nn.CrossEntropyLoss().to(device)\n",
    "\n",
    "# for epoch in range(epochs):\n",
    "#     for batch_idx, (data,target) in enumerate(train_loader):\n",
    "#         data = data.view(-1, 28*28)\n",
    "#         data, target = data.to(device), target.cuda()\n",
    "\n",
    "## .to() is better!!"
   ]
  }
 ]
}