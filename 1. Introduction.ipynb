{
 "metadata": {
  "language_info": {
   "codemirror_mode": {
    "name": "ipython",
    "version": 3
   },
   "file_extension": ".py",
   "mimetype": "text/x-python",
   "name": "python",
   "nbconvert_exporter": "python",
   "pygments_lexer": "ipython3",
   "version": "3.8.5-final"
  },
  "orig_nbformat": 2,
  "kernelspec": {
   "name": "python3",
   "display_name": "Python 3.8.5 64-bit (conda)",
   "metadata": {
    "interpreter": {
     "hash": "bbf726d0b1f933513ea74365d39462104047c8d9bd4636ddbcd10a56e8c32395"
    }
   }
  }
 },
 "nbformat": 4,
 "nbformat_minor": 2,
 "cells": [
  {
   "cell_type": "code",
   "execution_count": 1,
   "metadata": {},
   "outputs": [],
   "source": [
    "import torch\n",
    "import numpy as np"
   ]
  },
  {
   "source": [
    "## Data Type"
   ],
   "cell_type": "markdown",
   "metadata": {}
  },
  {
   "source": [
    "### Type Check"
   ],
   "cell_type": "markdown",
   "metadata": {}
  },
  {
   "cell_type": "code",
   "execution_count": 7,
   "metadata": {},
   "outputs": [],
   "source": [
    "a = torch.randn(2,3)\n",
    "# rand from N(0,1), shape of [2,3]"
   ]
  },
  {
   "cell_type": "code",
   "execution_count": 4,
   "metadata": {},
   "outputs": [
    {
     "output_type": "execute_result",
     "data": {
      "text/plain": [
       "'torch.FloatTensor'"
      ]
     },
     "metadata": {},
     "execution_count": 4
    }
   ],
   "source": [
    "a.type()"
   ]
  },
  {
   "cell_type": "code",
   "execution_count": 5,
   "metadata": {},
   "outputs": [
    {
     "output_type": "execute_result",
     "data": {
      "text/plain": [
       "torch.Tensor"
      ]
     },
     "metadata": {},
     "execution_count": 5
    }
   ],
   "source": [
    "type(a)"
   ]
  },
  {
   "cell_type": "code",
   "execution_count": 6,
   "metadata": {},
   "outputs": [
    {
     "output_type": "execute_result",
     "data": {
      "text/plain": [
       "True"
      ]
     },
     "metadata": {},
     "execution_count": 6
    }
   ],
   "source": [
    "isinstance(a, torch.FloatTensor)"
   ]
  },
  {
   "cell_type": "code",
   "execution_count": 12,
   "metadata": {},
   "outputs": [
    {
     "output_type": "execute_result",
     "data": {
      "text/plain": [
       "False"
      ]
     },
     "metadata": {},
     "execution_count": 12
    }
   ],
   "source": [
    "data = torch.DoubleTensor(2,3)\n",
    "isinstance(data, torch.cuda.DoubleTensor)\n",
    "# data in CPU"
   ]
  },
  {
   "cell_type": "code",
   "execution_count": 13,
   "metadata": {},
   "outputs": [
    {
     "output_type": "execute_result",
     "data": {
      "text/plain": [
       "True"
      ]
     },
     "metadata": {},
     "execution_count": 13
    }
   ],
   "source": [
    "data = data.cuda()\n",
    "isinstance(data, torch.cuda.DoubleTensor)\n",
    "# data in GPU\n",
    "# .cuda() returns a reference in GPU"
   ]
  },
  {
   "source": [
    "### Dimension 0 / rank 0\n",
    "Loss"
   ],
   "cell_type": "markdown",
   "metadata": {}
  },
  {
   "source": [
    "torch.tensor(1.)"
   ],
   "cell_type": "code",
   "metadata": {},
   "execution_count": 15,
   "outputs": [
    {
     "output_type": "execute_result",
     "data": {
      "text/plain": [
       "tensor(1.)"
      ]
     },
     "metadata": {},
     "execution_count": 15
    }
   ]
  },
  {
   "cell_type": "code",
   "execution_count": 14,
   "metadata": {},
   "outputs": [
    {
     "output_type": "execute_result",
     "data": {
      "text/plain": [
       "tensor(1.3000)"
      ]
     },
     "metadata": {},
     "execution_count": 14
    }
   ],
   "source": [
    "torch.tensor(1.3)"
   ]
  },
  {
   "cell_type": "code",
   "execution_count": 16,
   "metadata": {},
   "outputs": [
    {
     "output_type": "execute_result",
     "data": {
      "text/plain": [
       "torch.Size([])"
      ]
     },
     "metadata": {},
     "execution_count": 16
    }
   ],
   "source": [
    "a = torch.tensor(2.2)\n",
    "a.shape"
   ]
  },
  {
   "cell_type": "code",
   "execution_count": 17,
   "metadata": {},
   "outputs": [
    {
     "output_type": "execute_result",
     "data": {
      "text/plain": [
       "0"
      ]
     },
     "metadata": {},
     "execution_count": 17
    }
   ],
   "source": [
    "len(a.shape)"
   ]
  },
  {
   "cell_type": "code",
   "execution_count": 18,
   "metadata": {},
   "outputs": [
    {
     "output_type": "execute_result",
     "data": {
      "text/plain": [
       "torch.Size([])"
      ]
     },
     "metadata": {},
     "execution_count": 18
    }
   ],
   "source": [
    "a.size()"
   ]
  },
  {
   "source": [
    "### Dimension 1 / rank 1\n",
    "Bias, Linear Input"
   ],
   "cell_type": "markdown",
   "metadata": {}
  },
  {
   "cell_type": "code",
   "execution_count": 19,
   "metadata": {},
   "outputs": [
    {
     "output_type": "execute_result",
     "data": {
      "text/plain": [
       "tensor([1.1000])"
      ]
     },
     "metadata": {},
     "execution_count": 19
    }
   ],
   "source": [
    "torch.tensor([1.1])\n",
    "# .tensor get the data itself"
   ]
  },
  {
   "cell_type": "code",
   "execution_count": 20,
   "metadata": {},
   "outputs": [
    {
     "output_type": "execute_result",
     "data": {
      "text/plain": [
       "tensor([1.1000, 2.2000])"
      ]
     },
     "metadata": {},
     "execution_count": 20
    }
   ],
   "source": [
    "torch.tensor([1.1, 2.2])"
   ]
  },
  {
   "cell_type": "code",
   "execution_count": 21,
   "metadata": {},
   "outputs": [
    {
     "output_type": "execute_result",
     "data": {
      "text/plain": [
       "tensor([9.1477e-41])"
      ]
     },
     "metadata": {},
     "execution_count": 21
    }
   ],
   "source": [
    "torch.FloatTensor(1)\n",
    "# .FloatTensor get the shape of data"
   ]
  },
  {
   "cell_type": "code",
   "execution_count": 22,
   "metadata": {},
   "outputs": [
    {
     "output_type": "execute_result",
     "data": {
      "text/plain": [
       "tensor([1.4013e-45, 0.0000e+00])"
      ]
     },
     "metadata": {},
     "execution_count": 22
    }
   ],
   "source": [
    "torch.FloatTensor(2)"
   ]
  },
  {
   "cell_type": "code",
   "execution_count": 25,
   "metadata": {},
   "outputs": [
    {
     "output_type": "execute_result",
     "data": {
      "text/plain": [
       "array([1., 1.])"
      ]
     },
     "metadata": {},
     "execution_count": 25
    }
   ],
   "source": [
    "data = np.ones(2)\n",
    "data"
   ]
  },
  {
   "cell_type": "code",
   "execution_count": 26,
   "metadata": {},
   "outputs": [
    {
     "output_type": "execute_result",
     "data": {
      "text/plain": [
       "tensor([1., 1.], dtype=torch.float64)"
      ]
     },
     "metadata": {},
     "execution_count": 26
    }
   ],
   "source": [
    "torch.from_numpy(data)"
   ]
  },
  {
   "source": [
    "### Dimension 2 \n",
    "Linear input with batch"
   ],
   "cell_type": "markdown",
   "metadata": {}
  },
  {
   "cell_type": "code",
   "execution_count": 27,
   "metadata": {},
   "outputs": [
    {
     "output_type": "execute_result",
     "data": {
      "text/plain": [
       "tensor([[ 1.1618, -0.0635, -2.5531],\n",
       "        [ 1.9363, -0.4735, -0.8492]])"
      ]
     },
     "metadata": {},
     "execution_count": 27
    }
   ],
   "source": [
    "a = torch.randn(2, 3)\n",
    "a"
   ]
  },
  {
   "cell_type": "code",
   "execution_count": 28,
   "metadata": {},
   "outputs": [
    {
     "output_type": "execute_result",
     "data": {
      "text/plain": [
       "torch.Size([2, 3])"
      ]
     },
     "metadata": {},
     "execution_count": 28
    }
   ],
   "source": [
    "a.shape"
   ]
  },
  {
   "cell_type": "code",
   "execution_count": 30,
   "metadata": {},
   "outputs": [
    {
     "output_type": "execute_result",
     "data": {
      "text/plain": [
       "2"
      ]
     },
     "metadata": {},
     "execution_count": 30
    }
   ],
   "source": [
    "a.size(0)"
   ]
  },
  {
   "cell_type": "code",
   "execution_count": 32,
   "metadata": {},
   "outputs": [
    {
     "output_type": "execute_result",
     "data": {
      "text/plain": [
       "3"
      ]
     },
     "metadata": {},
     "execution_count": 32
    }
   ],
   "source": [
    "a.shape[1]"
   ]
  },
  {
   "source": [
    "### Dimension 3\n",
    "RNN input with Batch"
   ],
   "cell_type": "markdown",
   "metadata": {}
  },
  {
   "cell_type": "code",
   "execution_count": 33,
   "metadata": {},
   "outputs": [
    {
     "output_type": "execute_result",
     "data": {
      "text/plain": [
       "tensor([[[0.7077, 0.7945, 0.2229],\n",
       "         [0.0711, 0.2299, 0.6192]]])"
      ]
     },
     "metadata": {},
     "execution_count": 33
    }
   ],
   "source": [
    "a = torch.rand(1,2,3)\n",
    "a"
   ]
  },
  {
   "cell_type": "code",
   "execution_count": 34,
   "metadata": {},
   "outputs": [
    {
     "output_type": "execute_result",
     "data": {
      "text/plain": [
       "torch.Size([1, 2, 3])"
      ]
     },
     "metadata": {},
     "execution_count": 34
    }
   ],
   "source": [
    "a.shape"
   ]
  },
  {
   "cell_type": "code",
   "execution_count": 35,
   "metadata": {},
   "outputs": [
    {
     "output_type": "execute_result",
     "data": {
      "text/plain": [
       "tensor([[0.7077, 0.7945, 0.2229],\n",
       "        [0.0711, 0.2299, 0.6192]])"
      ]
     },
     "metadata": {},
     "execution_count": 35
    }
   ],
   "source": [
    "a[0]"
   ]
  },
  {
   "cell_type": "code",
   "execution_count": 36,
   "metadata": {},
   "outputs": [
    {
     "output_type": "execute_result",
     "data": {
      "text/plain": [
       "[1, 2, 3]"
      ]
     },
     "metadata": {},
     "execution_count": 36
    }
   ],
   "source": [
    "list(a.shape)"
   ]
  },
  {
   "source": [
    "### Dimension 4\n",
    "Image CNN with Batch"
   ],
   "cell_type": "markdown",
   "metadata": {}
  },
  {
   "cell_type": "code",
   "execution_count": 37,
   "metadata": {},
   "outputs": [
    {
     "output_type": "execute_result",
     "data": {
      "text/plain": [
       "tensor([[[[0.9452, 0.0960, 0.6244,  ..., 0.3075, 0.1940, 0.0176],\n",
       "          [0.7156, 0.6183, 0.0516,  ..., 0.7265, 0.1831, 0.9007],\n",
       "          [0.5959, 0.5855, 0.5469,  ..., 0.6994, 0.7649, 0.7002],\n",
       "          ...,\n",
       "          [0.4662, 0.7795, 0.5231,  ..., 0.5171, 0.3908, 0.8164],\n",
       "          [0.2073, 0.2678, 0.9561,  ..., 0.1791, 0.2662, 0.5499],\n",
       "          [0.2395, 0.9327, 0.6420,  ..., 0.1753, 0.4115, 0.2605]],\n",
       "\n",
       "         [[0.0512, 0.2766, 0.1153,  ..., 0.7260, 0.2298, 0.4059],\n",
       "          [0.8101, 0.0701, 0.4313,  ..., 0.4626, 0.3031, 0.6003],\n",
       "          [0.1870, 0.6604, 0.5217,  ..., 0.9018, 0.6958, 0.3204],\n",
       "          ...,\n",
       "          [0.6748, 0.4852, 0.6504,  ..., 0.2738, 0.4558, 0.1826],\n",
       "          [0.9928, 0.3344, 0.3784,  ..., 0.3541, 0.1814, 0.5361],\n",
       "          [0.0516, 0.3984, 0.5477,  ..., 0.5774, 0.3418, 0.1017]],\n",
       "\n",
       "         [[0.0853, 0.7975, 0.3340,  ..., 0.0397, 0.5973, 0.4044],\n",
       "          [0.1200, 0.7229, 0.5175,  ..., 0.9498, 0.6407, 0.0195],\n",
       "          [0.6015, 0.9320, 0.9014,  ..., 0.4136, 0.4836, 0.7365],\n",
       "          ...,\n",
       "          [0.4161, 0.5354, 0.1900,  ..., 0.5636, 0.8398, 0.1448],\n",
       "          [0.0255, 0.9363, 0.3511,  ..., 0.9834, 0.3150, 0.5396],\n",
       "          [0.8643, 0.9920, 0.4420,  ..., 0.4321, 0.7305, 0.2578]]],\n",
       "\n",
       "\n",
       "        [[[0.7787, 0.2063, 0.5193,  ..., 0.2063, 0.6937, 0.7493],\n",
       "          [0.0420, 0.9022, 0.9406,  ..., 0.2357, 0.9798, 0.6523],\n",
       "          [0.5556, 0.0031, 0.4234,  ..., 0.9950, 0.6088, 0.2420],\n",
       "          ...,\n",
       "          [0.5075, 0.3898, 0.2550,  ..., 0.2418, 0.2043, 0.2528],\n",
       "          [0.2063, 0.6720, 0.9101,  ..., 0.2744, 0.1325, 0.8055],\n",
       "          [0.9373, 0.6099, 0.1424,  ..., 0.4936, 0.4676, 0.1455]],\n",
       "\n",
       "         [[0.1454, 0.2847, 0.0795,  ..., 0.2585, 0.7788, 0.9407],\n",
       "          [0.1777, 0.2763, 0.3199,  ..., 0.9091, 0.7568, 0.1122],\n",
       "          [0.0476, 0.1766, 0.6433,  ..., 0.2261, 0.5304, 0.9606],\n",
       "          ...,\n",
       "          [0.1639, 0.9772, 0.7478,  ..., 0.6556, 0.5391, 0.9310],\n",
       "          [0.1489, 0.7786, 0.5661,  ..., 0.2298, 0.2390, 0.1898],\n",
       "          [0.1217, 0.4455, 0.2166,  ..., 0.4812, 0.4320, 0.6144]],\n",
       "\n",
       "         [[0.3316, 0.8401, 0.0544,  ..., 0.6227, 0.3047, 0.0721],\n",
       "          [0.8027, 0.6424, 0.9664,  ..., 0.6449, 0.9735, 0.4423],\n",
       "          [0.8533, 0.6648, 0.5174,  ..., 0.2026, 0.1597, 0.6477],\n",
       "          ...,\n",
       "          [0.3521, 0.4439, 0.5564,  ..., 0.2563, 0.4152, 0.8859],\n",
       "          [0.0222, 0.9255, 0.0276,  ..., 0.0096, 0.8902, 0.5665],\n",
       "          [0.2807, 0.8376, 0.2455,  ..., 0.0621, 0.0359, 0.4568]]]])"
      ]
     },
     "metadata": {},
     "execution_count": 37
    }
   ],
   "source": [
    "a = torch.rand(2,3,28,28)\n",
    "a"
   ]
  },
  {
   "cell_type": "code",
   "execution_count": 38,
   "metadata": {},
   "outputs": [
    {
     "output_type": "execute_result",
     "data": {
      "text/plain": [
       "torch.Size([2, 3, 28, 28])"
      ]
     },
     "metadata": {},
     "execution_count": 38
    }
   ],
   "source": [
    "a.shape"
   ]
  },
  {
   "source": [
    "### Mixed"
   ],
   "cell_type": "markdown",
   "metadata": {}
  },
  {
   "cell_type": "code",
   "execution_count": 39,
   "metadata": {},
   "outputs": [
    {
     "output_type": "execute_result",
     "data": {
      "text/plain": [
       "4704"
      ]
     },
     "metadata": {},
     "execution_count": 39
    }
   ],
   "source": [
    "a.numel()\n",
    "# the size of the numbers"
   ]
  },
  {
   "cell_type": "code",
   "execution_count": 40,
   "metadata": {},
   "outputs": [
    {
     "output_type": "execute_result",
     "data": {
      "text/plain": [
       "4"
      ]
     },
     "metadata": {},
     "execution_count": 40
    }
   ],
   "source": [
    "a.dim()"
   ]
  },
  {
   "source": [
    "## Generate Tensor"
   ],
   "cell_type": "markdown",
   "metadata": {}
  },
  {
   "source": [
    "### Import from numpy"
   ],
   "cell_type": "markdown",
   "metadata": {}
  },
  {
   "cell_type": "code",
   "execution_count": 41,
   "metadata": {},
   "outputs": [
    {
     "output_type": "execute_result",
     "data": {
      "text/plain": [
       "tensor([2.0000, 3.3000], dtype=torch.float64)"
      ]
     },
     "metadata": {},
     "execution_count": 41
    }
   ],
   "source": [
    "a = np.array([2,3.3])\n",
    "torch.from_numpy(a)\n",
    "# It's Double"
   ]
  },
  {
   "cell_type": "code",
   "execution_count": 43,
   "metadata": {},
   "outputs": [
    {
     "output_type": "execute_result",
     "data": {
      "text/plain": [
       "tensor([[1., 1., 1.],\n",
       "        [1., 1., 1.]], dtype=torch.float64)"
      ]
     },
     "metadata": {},
     "execution_count": 43
    }
   ],
   "source": [
    "a = np.ones([2,3])\n",
    "torch.from_numpy(a)"
   ]
  },
  {
   "source": [
    "### Import from List"
   ],
   "cell_type": "markdown",
   "metadata": {}
  },
  {
   "cell_type": "code",
   "execution_count": 46,
   "metadata": {},
   "outputs": [
    {
     "output_type": "execute_result",
     "data": {
      "text/plain": [
       "tensor([[ 2.0000,  3.2000],\n",
       "        [ 1.0000, 22.3000]])"
      ]
     },
     "metadata": {},
     "execution_count": 46
    }
   ],
   "source": [
    "torch.tensor([[2.,3.2],[1.,22.3]])"
   ]
  },
  {
   "source": [
    "### uninitialized\n",
    "torch.empty()\n",
    "torch.FloatTensor(d1,d2,d3)\n",
    "torch.IntTensor(d1,d2,d3)"
   ],
   "cell_type": "markdown",
   "metadata": {}
  },
  {
   "cell_type": "code",
   "execution_count": 47,
   "metadata": {},
   "outputs": [
    {
     "output_type": "execute_result",
     "data": {
      "text/plain": [
       "tensor([9.1477e-41])"
      ]
     },
     "metadata": {},
     "execution_count": 47
    }
   ],
   "source": [
    "torch.empty(1)"
   ]
  },
  {
   "cell_type": "code",
   "execution_count": 48,
   "metadata": {},
   "outputs": [
    {
     "output_type": "execute_result",
     "data": {
      "text/plain": [
       "tensor([[1.0745e-38, 1.1112e-38, 9.2755e-39],\n",
       "        [2.9389e-39, 1.0194e-38, 9.2755e-39]])"
      ]
     },
     "metadata": {},
     "execution_count": 48
    }
   ],
   "source": [
    "torch.Tensor(2,3)"
   ]
  },
  {
   "cell_type": "code",
   "execution_count": 49,
   "metadata": {},
   "outputs": [
    {
     "output_type": "execute_result",
     "data": {
      "text/plain": [
       "tensor([[ 892744754, 1650746678,  878916403],\n",
       "        [ 875836515,  845374818,  875575353]], dtype=torch.int32)"
      ]
     },
     "metadata": {},
     "execution_count": 49
    }
   ],
   "source": [
    "torch.IntTensor(2,3)"
   ]
  },
  {
   "cell_type": "code",
   "execution_count": 50,
   "metadata": {},
   "outputs": [
    {
     "output_type": "execute_result",
     "data": {
      "text/plain": [
       "tensor([[1.0616e+21, 5.4884e-05, 2.6367e-09],\n",
       "        [1.7186e-04, 6.7371e-10, 2.5930e-09]])"
      ]
     },
     "metadata": {},
     "execution_count": 50
    }
   ],
   "source": [
    "torch.FloatTensor(2,3)"
   ]
  },
  {
   "source": [
    "### set default type\n",
    "In reinforcement learning, double; float in other cases"
   ],
   "cell_type": "markdown",
   "metadata": {}
  },
  {
   "cell_type": "code",
   "execution_count": 51,
   "metadata": {},
   "outputs": [
    {
     "output_type": "execute_result",
     "data": {
      "text/plain": [
       "'torch.FloatTensor'"
      ]
     },
     "metadata": {},
     "execution_count": 51
    }
   ],
   "source": [
    "torch.tensor([1.2,3]).type()"
   ]
  },
  {
   "cell_type": "code",
   "execution_count": 52,
   "metadata": {},
   "outputs": [],
   "source": [
    "torch.set_default_tensor_type(torch.DoubleTensor)"
   ]
  },
  {
   "cell_type": "code",
   "execution_count": 53,
   "metadata": {},
   "outputs": [
    {
     "output_type": "execute_result",
     "data": {
      "text/plain": [
       "'torch.DoubleTensor'"
      ]
     },
     "metadata": {},
     "execution_count": 53
    }
   ],
   "source": [
    "torch.tensor([1.2,3]).type()"
   ]
  },
  {
   "source": [
    "### rand / rand_like, randint\n",
    "(0,1), *_like, (min, max)"
   ],
   "cell_type": "markdown",
   "metadata": {}
  },
  {
   "cell_type": "code",
   "execution_count": 54,
   "metadata": {},
   "outputs": [
    {
     "output_type": "execute_result",
     "data": {
      "text/plain": [
       "tensor([[0.0607, 0.2920, 0.2369],\n",
       "        [0.6395, 0.8671, 0.0904],\n",
       "        [0.7570, 0.6274, 0.8076]])"
      ]
     },
     "metadata": {},
     "execution_count": 54
    }
   ],
   "source": [
    "torch.rand(3,3)"
   ]
  },
  {
   "cell_type": "code",
   "execution_count": 55,
   "metadata": {},
   "outputs": [
    {
     "output_type": "execute_result",
     "data": {
      "text/plain": [
       "tensor([[0.4734, 0.9697, 0.9647],\n",
       "        [0.8702, 0.5200, 0.8311],\n",
       "        [0.5481, 0.8309, 0.5695]])"
      ]
     },
     "metadata": {},
     "execution_count": 55
    }
   ],
   "source": [
    "a = torch.rand(3,3)\n",
    "torch.rand_like(a)"
   ]
  },
  {
   "cell_type": "code",
   "execution_count": 58,
   "metadata": {},
   "outputs": [
    {
     "output_type": "execute_result",
     "data": {
      "text/plain": [
       "tensor([[2, 6, 5],\n",
       "        [4, 7, 5],\n",
       "        [2, 6, 6]])"
      ]
     },
     "metadata": {},
     "execution_count": 58
    }
   ],
   "source": [
    "torch.randint(1,10,[3,3])"
   ]
  },
  {
   "source": [
    "### randn\n",
    "N(0,1)"
   ],
   "cell_type": "markdown",
   "metadata": {}
  },
  {
   "cell_type": "code",
   "execution_count": 59,
   "metadata": {},
   "outputs": [
    {
     "output_type": "execute_result",
     "data": {
      "text/plain": [
       "tensor([[-0.9187, -0.7687,  0.3792],\n",
       "        [ 0.6249, -0.0134, -0.6309],\n",
       "        [ 0.4018,  0.0097, -0.1958]])"
      ]
     },
     "metadata": {},
     "execution_count": 59
    }
   ],
   "source": [
    "torch.randn(3,3)"
   ]
  },
  {
   "cell_type": "code",
   "execution_count": 66,
   "metadata": {},
   "outputs": [],
   "source": [
    "# torch.normal(mean=torch.full([10],0), std=torch.arange(1,0,-0.1))"
   ]
  },
  {
   "source": [
    "### full"
   ],
   "cell_type": "markdown",
   "metadata": {}
  },
  {
   "cell_type": "code",
   "execution_count": 67,
   "metadata": {},
   "outputs": [
    {
     "output_type": "execute_result",
     "data": {
      "text/plain": [
       "tensor([[7, 7, 7],\n",
       "        [7, 7, 7]])"
      ]
     },
     "metadata": {},
     "execution_count": 67
    }
   ],
   "source": [
    "torch.full([2,3],7)"
   ]
  },
  {
   "cell_type": "code",
   "execution_count": 68,
   "metadata": {},
   "outputs": [
    {
     "output_type": "execute_result",
     "data": {
      "text/plain": [
       "tensor(7)"
      ]
     },
     "metadata": {},
     "execution_count": 68
    }
   ],
   "source": [
    "torch.full([],7)"
   ]
  },
  {
   "cell_type": "code",
   "execution_count": 69,
   "metadata": {},
   "outputs": [
    {
     "output_type": "execute_result",
     "data": {
      "text/plain": [
       "tensor([7])"
      ]
     },
     "metadata": {},
     "execution_count": 69
    }
   ],
   "source": [
    "torch.full([1],7)"
   ]
  },
  {
   "source": [
    "### arange / range"
   ],
   "cell_type": "markdown",
   "metadata": {}
  },
  {
   "cell_type": "code",
   "execution_count": 70,
   "metadata": {},
   "outputs": [
    {
     "output_type": "execute_result",
     "data": {
      "text/plain": [
       "tensor([0, 1, 2, 3, 4, 5, 6, 7, 8, 9])"
      ]
     },
     "metadata": {},
     "execution_count": 70
    }
   ],
   "source": [
    "torch.arange(0,10)"
   ]
  },
  {
   "cell_type": "code",
   "execution_count": 71,
   "metadata": {},
   "outputs": [
    {
     "output_type": "execute_result",
     "data": {
      "text/plain": [
       "tensor([0, 2, 4, 6, 8])"
      ]
     },
     "metadata": {},
     "execution_count": 71
    }
   ],
   "source": [
    "torch.arange(0,10,2)"
   ]
  },
  {
   "cell_type": "code",
   "execution_count": 72,
   "metadata": {},
   "outputs": [
    {
     "output_type": "stream",
     "name": "stderr",
     "text": [
      "<ipython-input-72-dfdec9b83f7d>:1: UserWarning: torch.range is deprecated and will be removed in a future release because its behavior is inconsistent with Python's range builtin. Instead, use torch.arange, which produces values in [start, end).\n  torch.range(0,10)\n"
     ]
    },
    {
     "output_type": "execute_result",
     "data": {
      "text/plain": [
       "tensor([ 0.,  1.,  2.,  3.,  4.,  5.,  6.,  7.,  8.,  9., 10.])"
      ]
     },
     "metadata": {},
     "execution_count": 72
    }
   ],
   "source": [
    "torch.range(0,10)"
   ]
  },
  {
   "source": [
    "### linspace / logspace"
   ],
   "cell_type": "markdown",
   "metadata": {}
  },
  {
   "cell_type": "code",
   "execution_count": 73,
   "metadata": {},
   "outputs": [
    {
     "output_type": "execute_result",
     "data": {
      "text/plain": [
       "tensor([ 0.0000,  3.3333,  6.6667, 10.0000])"
      ]
     },
     "metadata": {},
     "execution_count": 73
    }
   ],
   "source": [
    "torch.linspace(0,10, steps=4)"
   ]
  },
  {
   "cell_type": "code",
   "execution_count": 74,
   "metadata": {},
   "outputs": [
    {
     "output_type": "execute_result",
     "data": {
      "text/plain": [
       "tensor([ 0.0000,  1.1111,  2.2222,  3.3333,  4.4444,  5.5556,  6.6667,  7.7778,\n",
       "         8.8889, 10.0000])"
      ]
     },
     "metadata": {},
     "execution_count": 74
    }
   ],
   "source": [
    "torch.linspace(0,10, steps=10)"
   ]
  },
  {
   "cell_type": "code",
   "execution_count": 75,
   "metadata": {},
   "outputs": [
    {
     "output_type": "execute_result",
     "data": {
      "text/plain": [
       "tensor([ 0.,  1.,  2.,  3.,  4.,  5.,  6.,  7.,  8.,  9., 10.])"
      ]
     },
     "metadata": {},
     "execution_count": 75
    }
   ],
   "source": [
    "torch.linspace(0,10, steps=11)"
   ]
  },
  {
   "cell_type": "code",
   "execution_count": 76,
   "metadata": {},
   "outputs": [
    {
     "output_type": "execute_result",
     "data": {
      "text/plain": [
       "tensor([1.0000, 0.7743, 0.5995, 0.4642, 0.3594, 0.2783, 0.2154, 0.1668, 0.1292,\n",
       "        0.1000])"
      ]
     },
     "metadata": {},
     "execution_count": 76
    }
   ],
   "source": [
    "torch.logspace(0,-1, steps=10)\n",
    "# the base para can be set to 2, 10, e"
   ]
  },
  {
   "cell_type": "code",
   "execution_count": 77,
   "metadata": {},
   "outputs": [
    {
     "output_type": "execute_result",
     "data": {
      "text/plain": [
       "tensor([ 1.0000,  1.2915,  1.6681,  2.1544,  2.7826,  3.5938,  4.6416,  5.9948,\n",
       "         7.7426, 10.0000])"
      ]
     },
     "metadata": {},
     "execution_count": 77
    }
   ],
   "source": [
    "torch.logspace(0,1, steps=10)"
   ]
  },
  {
   "source": [
    "### ones / zeros / eye"
   ],
   "cell_type": "markdown",
   "metadata": {}
  },
  {
   "cell_type": "code",
   "execution_count": 78,
   "metadata": {},
   "outputs": [
    {
     "output_type": "execute_result",
     "data": {
      "text/plain": [
       "tensor([[1., 1., 1.],\n",
       "        [1., 1., 1.],\n",
       "        [1., 1., 1.]])"
      ]
     },
     "metadata": {},
     "execution_count": 78
    }
   ],
   "source": [
    "torch.ones(3,3)"
   ]
  },
  {
   "cell_type": "code",
   "execution_count": 79,
   "metadata": {},
   "outputs": [
    {
     "output_type": "execute_result",
     "data": {
      "text/plain": [
       "tensor([[0., 0., 0.],\n",
       "        [0., 0., 0.],\n",
       "        [0., 0., 0.]])"
      ]
     },
     "metadata": {},
     "execution_count": 79
    }
   ],
   "source": [
    "torch.zeros(3,3)"
   ]
  },
  {
   "cell_type": "code",
   "execution_count": 80,
   "metadata": {},
   "outputs": [
    {
     "output_type": "execute_result",
     "data": {
      "text/plain": [
       "tensor([[1., 0., 0., 0.],\n",
       "        [0., 1., 0., 0.],\n",
       "        [0., 0., 1., 0.]])"
      ]
     },
     "metadata": {},
     "execution_count": 80
    }
   ],
   "source": [
    "torch.eye(3,4)"
   ]
  },
  {
   "source": [
    "### randperm\n",
    "random.shuffle"
   ],
   "cell_type": "markdown",
   "metadata": {}
  },
  {
   "cell_type": "code",
   "execution_count": 128,
   "metadata": {},
   "outputs": [],
   "source": [
    "a = torch.rand(2,3)\n",
    "b = torch.rand(2,2)\n",
    "idx = torch.randperm(2)\n",
    "# the seed"
   ]
  },
  {
   "cell_type": "code",
   "execution_count": 130,
   "metadata": {},
   "outputs": [
    {
     "output_type": "execute_result",
     "data": {
      "text/plain": [
       "tensor([[0.3607, 0.0586, 0.8555],\n",
       "        [0.5020, 0.8972, 0.2484]])"
      ]
     },
     "metadata": {},
     "execution_count": 130
    }
   ],
   "source": [
    "a[idx]"
   ]
  },
  {
   "source": [
    "## Index and Cut"
   ],
   "cell_type": "markdown",
   "metadata": {}
  },
  {
   "source": [
    "### Indexing"
   ],
   "cell_type": "markdown",
   "metadata": {}
  },
  {
   "cell_type": "code",
   "execution_count": 131,
   "metadata": {},
   "outputs": [
    {
     "output_type": "execute_result",
     "data": {
      "text/plain": [
       "torch.Size([3, 28, 28])"
      ]
     },
     "metadata": {},
     "execution_count": 131
    }
   ],
   "source": [
    "a = torch.rand(4,3,28,28)\n",
    "a[0].shape\n",
    "# indexing from the left"
   ]
  },
  {
   "cell_type": "code",
   "execution_count": 132,
   "metadata": {},
   "outputs": [
    {
     "output_type": "execute_result",
     "data": {
      "text/plain": [
       "torch.Size([28, 28])"
      ]
     },
     "metadata": {},
     "execution_count": 132
    }
   ],
   "source": [
    "a[0,0].shape"
   ]
  },
  {
   "cell_type": "code",
   "execution_count": 133,
   "metadata": {},
   "outputs": [
    {
     "output_type": "execute_result",
     "data": {
      "text/plain": [
       "tensor(0.0741)"
      ]
     },
     "metadata": {},
     "execution_count": 133
    }
   ],
   "source": [
    "a[0,0,2,4]"
   ]
  },
  {
   "source": [
    "### select first / last N"
   ],
   "cell_type": "markdown",
   "metadata": {}
  },
  {
   "cell_type": "code",
   "execution_count": 134,
   "metadata": {},
   "outputs": [
    {
     "output_type": "execute_result",
     "data": {
      "text/plain": [
       "torch.Size([2, 3, 28, 28])"
      ]
     },
     "metadata": {},
     "execution_count": 134
    }
   ],
   "source": [
    "a[:2].shape"
   ]
  },
  {
   "cell_type": "code",
   "execution_count": 135,
   "metadata": {},
   "outputs": [
    {
     "output_type": "execute_result",
     "data": {
      "text/plain": [
       "torch.Size([2, 1, 28, 28])"
      ]
     },
     "metadata": {},
     "execution_count": 135
    }
   ],
   "source": [
    "a[:2,:1,:,:].shape"
   ]
  },
  {
   "cell_type": "code",
   "execution_count": 136,
   "metadata": {},
   "outputs": [
    {
     "output_type": "execute_result",
     "data": {
      "text/plain": [
       "torch.Size([2, 2, 28, 28])"
      ]
     },
     "metadata": {},
     "execution_count": 136
    }
   ],
   "source": [
    "a[:2,1:,:,:].shape"
   ]
  },
  {
   "cell_type": "code",
   "execution_count": 137,
   "metadata": {},
   "outputs": [
    {
     "output_type": "execute_result",
     "data": {
      "text/plain": [
       "torch.Size([2, 1, 28, 28])"
      ]
     },
     "metadata": {},
     "execution_count": 137
    }
   ],
   "source": [
    "a[:2,-1:,:,:].shape\n",
    "# the last is -1"
   ]
  },
  {
   "source": [
    "### select by steps"
   ],
   "cell_type": "markdown",
   "metadata": {}
  },
  {
   "cell_type": "code",
   "execution_count": 138,
   "metadata": {},
   "outputs": [
    {
     "output_type": "execute_result",
     "data": {
      "text/plain": [
       "torch.Size([4, 3, 14, 14])"
      ]
     },
     "metadata": {},
     "execution_count": 138
    }
   ],
   "source": [
    "a[:,:,0:28:2,0:28:2].shape"
   ]
  },
  {
   "cell_type": "code",
   "execution_count": 139,
   "metadata": {},
   "outputs": [
    {
     "output_type": "execute_result",
     "data": {
      "text/plain": [
       "torch.Size([4, 3, 14, 14])"
      ]
     },
     "metadata": {},
     "execution_count": 139
    }
   ],
   "source": [
    "a[:,:,::2,::2].shape"
   ]
  },
  {
   "source": [
    "### select by specific index"
   ],
   "cell_type": "markdown",
   "metadata": {}
  },
  {
   "cell_type": "code",
   "execution_count": 140,
   "metadata": {},
   "outputs": [
    {
     "output_type": "execute_result",
     "data": {
      "text/plain": [
       "torch.Size([2, 3, 28, 28])"
      ]
     },
     "metadata": {},
     "execution_count": 140
    }
   ],
   "source": [
    "a.index_select(0,torch.tensor([0,2])).shape\n",
    "# select 0th dim data"
   ]
  },
  {
   "cell_type": "code",
   "execution_count": 142,
   "metadata": {},
   "outputs": [
    {
     "output_type": "execute_result",
     "data": {
      "text/plain": [
       "torch.Size([4, 2, 28, 28])"
      ]
     },
     "metadata": {},
     "execution_count": 142
    }
   ],
   "source": [
    "a.index_select(1,torch.tensor([1,2])).shape"
   ]
  },
  {
   "cell_type": "code",
   "execution_count": 143,
   "metadata": {},
   "outputs": [
    {
     "output_type": "execute_result",
     "data": {
      "text/plain": [
       "torch.Size([4, 3, 28, 28])"
      ]
     },
     "metadata": {},
     "execution_count": 143
    }
   ],
   "source": [
    "a.index_select(2,torch.arange(28)).shape"
   ]
  },
  {
   "cell_type": "code",
   "execution_count": 144,
   "metadata": {},
   "outputs": [
    {
     "output_type": "execute_result",
     "data": {
      "text/plain": [
       "torch.Size([4, 3, 8, 28])"
      ]
     },
     "metadata": {},
     "execution_count": 144
    }
   ],
   "source": [
    "a.index_select(2,torch.arange(8)).shape"
   ]
  },
  {
   "source": [
    "### ..."
   ],
   "cell_type": "markdown",
   "metadata": {}
  },
  {
   "cell_type": "code",
   "execution_count": 145,
   "metadata": {},
   "outputs": [
    {
     "output_type": "execute_result",
     "data": {
      "text/plain": [
       "torch.Size([4, 3, 28, 28])"
      ]
     },
     "metadata": {},
     "execution_count": 145
    }
   ],
   "source": [
    "a[...].shape"
   ]
  },
  {
   "cell_type": "code",
   "execution_count": 146,
   "metadata": {},
   "outputs": [
    {
     "output_type": "execute_result",
     "data": {
      "text/plain": [
       "torch.Size([3, 28, 28])"
      ]
     },
     "metadata": {},
     "execution_count": 146
    }
   ],
   "source": [
    "a[0,...].shape"
   ]
  },
  {
   "cell_type": "code",
   "execution_count": 147,
   "metadata": {},
   "outputs": [
    {
     "output_type": "execute_result",
     "data": {
      "text/plain": [
       "torch.Size([4, 28, 28])"
      ]
     },
     "metadata": {},
     "execution_count": 147
    }
   ],
   "source": [
    "a[:,1,...].shape"
   ]
  },
  {
   "source": [
    "### select by mask\n",
    ".masked_select()"
   ],
   "cell_type": "markdown",
   "metadata": {}
  },
  {
   "cell_type": "code",
   "execution_count": 149,
   "metadata": {},
   "outputs": [
    {
     "output_type": "execute_result",
     "data": {
      "text/plain": [
       "tensor([[ 1.1133, -0.4800,  0.7728,  0.4351],\n",
       "        [ 0.5779, -1.0344,  0.6008, -0.2606],\n",
       "        [-1.0106, -0.3813, -1.6270,  0.3401]])"
      ]
     },
     "metadata": {},
     "execution_count": 149
    }
   ],
   "source": [
    "x = torch.randn(3,4)\n",
    "x"
   ]
  },
  {
   "cell_type": "code",
   "execution_count": 151,
   "metadata": {},
   "outputs": [
    {
     "output_type": "execute_result",
     "data": {
      "text/plain": [
       "tensor([[ True, False,  True, False],\n",
       "        [ True, False,  True, False],\n",
       "        [False, False, False, False]])"
      ]
     },
     "metadata": {},
     "execution_count": 151
    }
   ],
   "source": [
    "mask = x.ge(0.5)\n",
    "# greater equal; ByteTensor\n",
    "mask"
   ]
  },
  {
   "cell_type": "code",
   "execution_count": 152,
   "metadata": {},
   "outputs": [
    {
     "output_type": "execute_result",
     "data": {
      "text/plain": [
       "tensor([1.1133, 0.7728, 0.5779, 0.6008])"
      ]
     },
     "metadata": {},
     "execution_count": 152
    }
   ],
   "source": [
    "torch.masked_select(x, mask)"
   ]
  },
  {
   "cell_type": "code",
   "execution_count": 153,
   "metadata": {},
   "outputs": [
    {
     "output_type": "execute_result",
     "data": {
      "text/plain": [
       "torch.Size([4])"
      ]
     },
     "metadata": {},
     "execution_count": 153
    }
   ],
   "source": [
    "torch.masked_select(x, mask).shape"
   ]
  },
  {
   "source": [
    "### select by flatten index"
   ],
   "cell_type": "markdown",
   "metadata": {}
  },
  {
   "cell_type": "code",
   "execution_count": 154,
   "metadata": {},
   "outputs": [],
   "source": [
    "src = torch.tensor([[4,3,5],[6,7,8]])"
   ]
  },
  {
   "cell_type": "code",
   "execution_count": 155,
   "metadata": {},
   "outputs": [
    {
     "output_type": "execute_result",
     "data": {
      "text/plain": [
       "tensor([4, 5, 8])"
      ]
     },
     "metadata": {},
     "execution_count": 155
    }
   ],
   "source": [
    "torch.take(src,torch.tensor([0,2,5]))"
   ]
  },
  {
   "source": [
    "## Tensor Dimension Transfor\n",
    "* view / reshape\n",
    "* squeeze / unsqueeze\n",
    "* transpose / t / permute\n",
    "* expand / repeat"
   ],
   "cell_type": "markdown",
   "metadata": {}
  },
  {
   "source": [
    "### view / reshape"
   ],
   "cell_type": "markdown",
   "metadata": {}
  },
  {
   "cell_type": "code",
   "execution_count": 156,
   "metadata": {},
   "outputs": [
    {
     "output_type": "execute_result",
     "data": {
      "text/plain": [
       "torch.Size([4, 1, 28, 28])"
      ]
     },
     "metadata": {},
     "execution_count": 156
    }
   ],
   "source": [
    "a = torch.rand(4,1,28,28)\n",
    "a.shape"
   ]
  },
  {
   "cell_type": "code",
   "execution_count": 157,
   "metadata": {},
   "outputs": [
    {
     "output_type": "execute_result",
     "data": {
      "text/plain": [
       "tensor([[0.1464, 0.2592, 0.2137,  ..., 0.6203, 0.6279, 0.4592],\n",
       "        [0.6888, 0.3686, 0.8775,  ..., 0.3916, 0.5888, 0.4738],\n",
       "        [0.6553, 0.3024, 0.7099,  ..., 0.5065, 0.2029, 0.9644],\n",
       "        [0.5989, 0.9113, 0.6837,  ..., 0.5471, 0.0574, 0.8133]])"
      ]
     },
     "metadata": {},
     "execution_count": 157
    }
   ],
   "source": [
    "a.view(4,28*28)"
   ]
  },
  {
   "cell_type": "code",
   "execution_count": 158,
   "metadata": {},
   "outputs": [],
   "source": [
    "# b = a.view(4,28*28)\n",
    "# b.view(4,28,28,1)\n",
    "# this is a logic bug!!! the dimension rank is important"
   ]
  },
  {
   "source": [
    "### squeeze v.s. unsqueeze\n",
    "[-a.dim()-1, a.dim()+1)"
   ],
   "cell_type": "markdown",
   "metadata": {}
  },
  {
   "cell_type": "code",
   "execution_count": 159,
   "metadata": {},
   "outputs": [
    {
     "output_type": "execute_result",
     "data": {
      "text/plain": [
       "torch.Size([4, 1, 28, 28])"
      ]
     },
     "metadata": {},
     "execution_count": 159
    }
   ],
   "source": [
    "a.shape"
   ]
  },
  {
   "cell_type": "code",
   "execution_count": 160,
   "metadata": {},
   "outputs": [
    {
     "output_type": "execute_result",
     "data": {
      "text/plain": [
       "torch.Size([1, 4, 1, 28, 28])"
      ]
     },
     "metadata": {},
     "execution_count": 160
    }
   ],
   "source": [
    "a.unsqueeze(0).shape"
   ]
  },
  {
   "cell_type": "code",
   "execution_count": 161,
   "metadata": {},
   "outputs": [
    {
     "output_type": "execute_result",
     "data": {
      "text/plain": [
       "torch.Size([4, 1, 28, 28, 1])"
      ]
     },
     "metadata": {},
     "execution_count": 161
    }
   ],
   "source": [
    "a.unsqueeze(-1).shape\n",
    "# it wouldn't change the data, but the shape of the organization"
   ]
  },
  {
   "cell_type": "code",
   "execution_count": 162,
   "metadata": {},
   "outputs": [],
   "source": [
    "a = torch.tensor([1.2,2.3])\n",
    "# shape [2]"
   ]
  },
  {
   "cell_type": "code",
   "execution_count": 163,
   "metadata": {},
   "outputs": [
    {
     "output_type": "execute_result",
     "data": {
      "text/plain": [
       "tensor([[1.2000],\n",
       "        [2.3000]])"
      ]
     },
     "metadata": {},
     "execution_count": 163
    }
   ],
   "source": [
    "a.unsqueeze(-1)\n",
    "# shape [2] -> [2,1]"
   ]
  },
  {
   "cell_type": "code",
   "execution_count": 164,
   "metadata": {},
   "outputs": [
    {
     "output_type": "execute_result",
     "data": {
      "text/plain": [
       "tensor([[1.2000, 2.3000]])"
      ]
     },
     "metadata": {},
     "execution_count": 164
    }
   ],
   "source": [
    "a.unsqueeze(0)\n",
    "# shape [2] -> [1,2]"
   ]
  },
  {
   "cell_type": "code",
   "execution_count": 165,
   "metadata": {},
   "outputs": [
    {
     "output_type": "execute_result",
     "data": {
      "text/plain": [
       "torch.Size([1, 32, 1, 1])"
      ]
     },
     "metadata": {},
     "execution_count": 165
    }
   ],
   "source": [
    "# for example\n",
    "b = torch.rand(32)\n",
    "f = torch.rand(4,32,14,14)\n",
    "# we want f+b\n",
    "b = b.unsqueeze(1).unsqueeze(2).unsqueeze(0)\n",
    "b.shape"
   ]
  },
  {
   "cell_type": "code",
   "execution_count": 166,
   "metadata": {},
   "outputs": [
    {
     "output_type": "execute_result",
     "data": {
      "text/plain": [
       "torch.Size([32])"
      ]
     },
     "metadata": {},
     "execution_count": 166
    }
   ],
   "source": [
    "b.squeeze().shape"
   ]
  },
  {
   "cell_type": "code",
   "execution_count": 167,
   "metadata": {},
   "outputs": [
    {
     "output_type": "execute_result",
     "data": {
      "text/plain": [
       "torch.Size([32, 1, 1])"
      ]
     },
     "metadata": {},
     "execution_count": 167
    }
   ],
   "source": [
    "b.squeeze(0).shape"
   ]
  },
  {
   "cell_type": "code",
   "execution_count": 168,
   "metadata": {},
   "outputs": [
    {
     "output_type": "execute_result",
     "data": {
      "text/plain": [
       "torch.Size([1, 32, 1, 1])"
      ]
     },
     "metadata": {},
     "execution_count": 168
    }
   ],
   "source": [
    "b.squeeze(1).shape"
   ]
  },
  {
   "source": [
    "### expand / repeat\n",
    "expand: broadcasting\n",
    "repeat: memory copied"
   ],
   "cell_type": "markdown",
   "metadata": {}
  },
  {
   "cell_type": "code",
   "execution_count": 169,
   "metadata": {},
   "outputs": [
    {
     "output_type": "execute_result",
     "data": {
      "text/plain": [
       "torch.Size([1, 32, 1, 1])"
      ]
     },
     "metadata": {},
     "execution_count": 169
    }
   ],
   "source": [
    "a = torch.rand(4,32,14,14)\n",
    "b.shape"
   ]
  },
  {
   "cell_type": "code",
   "execution_count": 170,
   "metadata": {},
   "outputs": [
    {
     "output_type": "execute_result",
     "data": {
      "text/plain": [
       "torch.Size([4, 32, 14, 14])"
      ]
     },
     "metadata": {},
     "execution_count": 170
    }
   ],
   "source": [
    "b.expand(4,32,14,14).shape"
   ]
  },
  {
   "cell_type": "code",
   "execution_count": 171,
   "metadata": {},
   "outputs": [
    {
     "output_type": "execute_result",
     "data": {
      "text/plain": [
       "torch.Size([1, 32, 1, 1])"
      ]
     },
     "metadata": {},
     "execution_count": 171
    }
   ],
   "source": [
    "b.expand(-1,32,-1,-1).shape\n",
    "# -1 means no change"
   ]
  },
  {
   "cell_type": "code",
   "execution_count": 172,
   "metadata": {},
   "outputs": [
    {
     "output_type": "execute_result",
     "data": {
      "text/plain": [
       "torch.Size([4, 1024, 1, 1])"
      ]
     },
     "metadata": {},
     "execution_count": 172
    }
   ],
   "source": [
    "b.repeat(4,32,1,1).shape\n",
    "# times of repeat"
   ]
  },
  {
   "source": [
    "### .t\n",
    "expects a 2 dim tensor, but **self** is >2 dim"
   ],
   "cell_type": "markdown",
   "metadata": {}
  },
  {
   "source": [
    "### transpose"
   ],
   "cell_type": "markdown",
   "metadata": {}
  },
  {
   "cell_type": "code",
   "execution_count": 179,
   "metadata": {},
   "outputs": [],
   "source": [
    "a = torch.rand(4,3,32,32)"
   ]
  },
  {
   "cell_type": "code",
   "execution_count": 182,
   "metadata": {},
   "outputs": [],
   "source": [
    "a1 = a.transpose(1,3).contiguous().view(4,3*32*32).view(4,3,32,32)"
   ]
  },
  {
   "cell_type": "code",
   "execution_count": 181,
   "metadata": {},
   "outputs": [],
   "source": [
    "a2 = a.transpose(1,3).contiguous().view(4,3*32*32).view(4,32,32,3).transpose(1,3)"
   ]
  },
  {
   "cell_type": "code",
   "execution_count": 183,
   "metadata": {},
   "outputs": [
    {
     "output_type": "execute_result",
     "data": {
      "text/plain": [
       "(torch.Size([4, 3, 32, 32]), torch.Size([4, 3, 32, 32]))"
      ]
     },
     "metadata": {},
     "execution_count": 183
    }
   ],
   "source": [
    "a1.shape, a2.shape\n",
    "# view will blur the order of dimensions, it needs to be tracked"
   ]
  },
  {
   "cell_type": "code",
   "execution_count": 184,
   "metadata": {},
   "outputs": [
    {
     "output_type": "execute_result",
     "data": {
      "text/plain": [
       "(tensor(False), tensor(True))"
      ]
     },
     "metadata": {},
     "execution_count": 184
    }
   ],
   "source": [
    "torch.all(torch.eq(a,a1)), torch.all(torch.eq(a,a2))"
   ]
  },
  {
   "source": [
    "### permute"
   ],
   "cell_type": "markdown",
   "metadata": {}
  },
  {
   "cell_type": "code",
   "execution_count": 187,
   "metadata": {},
   "outputs": [],
   "source": [
    "a = torch.rand(4,3,28,32)\n",
    "# [b, c, H, W]"
   ]
  },
  {
   "cell_type": "code",
   "execution_count": 188,
   "metadata": {},
   "outputs": [
    {
     "output_type": "execute_result",
     "data": {
      "text/plain": [
       "torch.Size([4, 28, 32, 3])"
      ]
     },
     "metadata": {},
     "execution_count": 188
    }
   ],
   "source": [
    "# [b, c, H, W] -> [b, H, W, c]\n",
    "a.transpose(1,3).transpose(1,2).shape"
   ]
  },
  {
   "cell_type": "code",
   "execution_count": 189,
   "metadata": {},
   "outputs": [
    {
     "output_type": "execute_result",
     "data": {
      "text/plain": [
       "torch.Size([4, 28, 32, 3])"
      ]
     },
     "metadata": {},
     "execution_count": 189
    }
   ],
   "source": [
    "a.permute(0,2,3,1).shape"
   ]
  },
  {
   "source": [
    "## Broadcasting\n",
    "* Insert 1 dim ahead\n",
    "* Expand dims with size 1 to same size\n",
    "    * Feature maps: [4, 32, 14, 14]\n",
    "    * Bias: [32, 1, 1] => [1, 32, 1, 1] => [4, 32, 14, 14]\n",
    "* Is it broadcasting-able?\n",
    "    * Match from Last dim\n",
    "    * If current dim=1, expand to same\n",
    "    * If rither has no dim, insert one dim and expand to same\n",
    "    * otherwise, NOT broadcasting-able"
   ],
   "cell_type": "markdown",
   "metadata": {}
  },
  {
   "source": [
    "## Merge or split\n",
    "* Cat\n",
    "* Stack\n",
    "* Split\n",
    "* Chunk"
   ],
   "cell_type": "markdown",
   "metadata": {}
  },
  {
   "source": [
    "### Cat"
   ],
   "cell_type": "markdown",
   "metadata": {}
  },
  {
   "cell_type": "code",
   "execution_count": 2,
   "metadata": {},
   "outputs": [],
   "source": [
    "a = torch.rand(4,32,8)\n",
    "b = torch.rand(5,32,8)"
   ]
  },
  {
   "cell_type": "code",
   "execution_count": 3,
   "metadata": {},
   "outputs": [
    {
     "output_type": "execute_result",
     "data": {
      "text/plain": [
       "torch.Size([9, 32, 8])"
      ]
     },
     "metadata": {},
     "execution_count": 3
    }
   ],
   "source": [
    "torch.cat([a,b],dim=0).shape"
   ]
  },
  {
   "cell_type": "code",
   "execution_count": 4,
   "metadata": {},
   "outputs": [
    {
     "output_type": "execute_result",
     "data": {
      "text/plain": [
       "torch.Size([9, 3, 32, 32])"
      ]
     },
     "metadata": {},
     "execution_count": 4
    }
   ],
   "source": [
    "a1 = torch.rand(4,3,32,32)\n",
    "a2 = torch.rand(5,3,32,32)\n",
    "torch.cat([a1,a2],dim=0).shape"
   ]
  },
  {
   "cell_type": "code",
   "execution_count": 5,
   "metadata": {},
   "outputs": [
    {
     "output_type": "execute_result",
     "data": {
      "text/plain": [
       "torch.Size([4, 4, 32, 32])"
      ]
     },
     "metadata": {},
     "execution_count": 5
    }
   ],
   "source": [
    "a2 = torch.rand(4,1,32,32)\n",
    "torch.cat([a1,a2],dim=1).shape"
   ]
  },
  {
   "source": [
    " ### Stack\n",
    " creat new dim"
   ],
   "cell_type": "markdown",
   "metadata": {}
  },
  {
   "cell_type": "code",
   "execution_count": 6,
   "metadata": {},
   "outputs": [
    {
     "output_type": "execute_result",
     "data": {
      "text/plain": [
       "torch.Size([2, 32, 8])"
      ]
     },
     "metadata": {},
     "execution_count": 6
    }
   ],
   "source": [
    "a = torch.rand(32,8)\n",
    "b = torch.rand(32,8)\n",
    "torch.stack([a,b],dim=0).shape"
   ]
  },
  {
   "source": [
    "### Cat v.s. stack"
   ],
   "cell_type": "markdown",
   "metadata": {}
  },
  {
   "cell_type": "code",
   "execution_count": 7,
   "metadata": {},
   "outputs": [],
   "source": [
    "a = torch.rand(32,8)\n",
    "b = torch.rand(30,8)"
   ]
  },
  {
   "cell_type": "code",
   "execution_count": 8,
   "metadata": {},
   "outputs": [
    {
     "output_type": "error",
     "ename": "RuntimeError",
     "evalue": "stack expects each tensor to be equal size, but got [32, 8] at entry 0 and [30, 8] at entry 1",
     "traceback": [
      "\u001b[1;31m---------------------------------------------------------------------------\u001b[0m",
      "\u001b[1;31mRuntimeError\u001b[0m                              Traceback (most recent call last)",
      "\u001b[1;32m<ipython-input-8-dd69d5bfdd95>\u001b[0m in \u001b[0;36m<module>\u001b[1;34m\u001b[0m\n\u001b[1;32m----> 1\u001b[1;33m \u001b[0mtorch\u001b[0m\u001b[1;33m.\u001b[0m\u001b[0mstack\u001b[0m\u001b[1;33m(\u001b[0m\u001b[1;33m[\u001b[0m\u001b[0ma\u001b[0m\u001b[1;33m,\u001b[0m\u001b[0mb\u001b[0m\u001b[1;33m]\u001b[0m\u001b[1;33m,\u001b[0m\u001b[0mdim\u001b[0m\u001b[1;33m=\u001b[0m\u001b[1;36m0\u001b[0m\u001b[1;33m)\u001b[0m\u001b[1;33m\u001b[0m\u001b[1;33m\u001b[0m\u001b[0m\n\u001b[0m",
      "\u001b[1;31mRuntimeError\u001b[0m: stack expects each tensor to be equal size, but got [32, 8] at entry 0 and [30, 8] at entry 1"
     ]
    }
   ],
   "source": [
    "torch.stack([a,b],dim=0)"
   ]
  },
  {
   "cell_type": "code",
   "execution_count": 9,
   "metadata": {},
   "outputs": [
    {
     "output_type": "execute_result",
     "data": {
      "text/plain": [
       "torch.Size([62, 8])"
      ]
     },
     "metadata": {},
     "execution_count": 9
    }
   ],
   "source": [
    "torch.cat([a,b],dim=0).shape"
   ]
  },
  {
   "source": [
    "### Split: by len"
   ],
   "cell_type": "markdown",
   "metadata": {}
  },
  {
   "cell_type": "code",
   "execution_count": 11,
   "metadata": {},
   "outputs": [
    {
     "output_type": "execute_result",
     "data": {
      "text/plain": [
       "torch.Size([2, 32, 8])"
      ]
     },
     "metadata": {},
     "execution_count": 11
    }
   ],
   "source": [
    "a = torch.rand(32,8)\n",
    "b = torch.rand(32,8)\n",
    "c = torch.stack([a,b],dim=0)\n",
    "c.shape"
   ]
  },
  {
   "cell_type": "code",
   "execution_count": 12,
   "metadata": {},
   "outputs": [
    {
     "output_type": "execute_result",
     "data": {
      "text/plain": [
       "(torch.Size([1, 32, 8]), torch.Size([1, 32, 8]))"
      ]
     },
     "metadata": {},
     "execution_count": 12
    }
   ],
   "source": [
    "aa, bb = c.split([1,1],dim=0)\n",
    "aa.shape, bb.shape"
   ]
  },
  {
   "cell_type": "code",
   "execution_count": 13,
   "metadata": {},
   "outputs": [
    {
     "output_type": "execute_result",
     "data": {
      "text/plain": [
       "(torch.Size([1, 32, 8]), torch.Size([1, 32, 8]))"
      ]
     },
     "metadata": {},
     "execution_count": 13
    }
   ],
   "source": [
    "aa, bb = c.split(1,dim=0)\n",
    "aa.shape, bb.shape"
   ]
  },
  {
   "source": [
    "### Chunk: by num"
   ],
   "cell_type": "markdown",
   "metadata": {}
  },
  {
   "cell_type": "code",
   "execution_count": 14,
   "metadata": {},
   "outputs": [
    {
     "output_type": "execute_result",
     "data": {
      "text/plain": [
       "torch.Size([2, 32, 8])"
      ]
     },
     "metadata": {},
     "execution_count": 14
    }
   ],
   "source": [
    "a = torch.rand(32,8)\n",
    "b = torch.rand(32,8)\n",
    "c = torch.stack([a,b],dim=0)\n",
    "c.shape"
   ]
  },
  {
   "cell_type": "code",
   "execution_count": 15,
   "metadata": {},
   "outputs": [
    {
     "output_type": "execute_result",
     "data": {
      "text/plain": [
       "(torch.Size([1, 32, 8]), torch.Size([1, 32, 8]))"
      ]
     },
     "metadata": {},
     "execution_count": 15
    }
   ],
   "source": [
    "aa, bb = c.chunk(2,dim=0)\n",
    "aa.shape, bb.shape"
   ]
  }
 ]
}