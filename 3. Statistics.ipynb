{
 "metadata": {
  "language_info": {
   "codemirror_mode": {
    "name": "ipython",
    "version": 3
   },
   "file_extension": ".py",
   "mimetype": "text/x-python",
   "name": "python",
   "nbconvert_exporter": "python",
   "pygments_lexer": "ipython3",
   "version": "3.8.5-final"
  },
  "orig_nbformat": 2,
  "kernelspec": {
   "name": "python3",
   "display_name": "Python 3.8.5 64-bit (conda)",
   "metadata": {
    "interpreter": {
     "hash": "bbf726d0b1f933513ea74365d39462104047c8d9bd4636ddbcd10a56e8c32395"
    }
   }
  }
 },
 "nbformat": 4,
 "nbformat_minor": 2,
 "cells": [
  {
   "cell_type": "code",
   "execution_count": 2,
   "metadata": {},
   "outputs": [],
   "source": [
    "import torch"
   ]
  },
  {
   "source": [
    "## Statistics\n",
    "* norm\n",
    "* mean sum\n",
    "* prod\n",
    "* max, min, argmin, argmax\n",
    "* kthvalue, topk"
   ],
   "cell_type": "markdown",
   "metadata": {}
  },
  {
   "source": [
    "### norm-p\n"
   ],
   "cell_type": "markdown",
   "metadata": {}
  },
  {
   "cell_type": "code",
   "execution_count": 6,
   "metadata": {},
   "outputs": [],
   "source": [
    "a = torch.full([8],1.)\n",
    "b = a.view(2,4)\n",
    "c = a.view(2,2,2)"
   ]
  },
  {
   "cell_type": "code",
   "execution_count": 7,
   "metadata": {},
   "outputs": [
    {
     "output_type": "execute_result",
     "data": {
      "text/plain": [
       "(tensor(8.), tensor(8.), tensor(8.))"
      ]
     },
     "metadata": {},
     "execution_count": 7
    }
   ],
   "source": [
    "a.norm(1),b.norm(1),c.norm(1)"
   ]
  },
  {
   "cell_type": "code",
   "execution_count": 8,
   "metadata": {},
   "outputs": [
    {
     "output_type": "execute_result",
     "data": {
      "text/plain": [
       "(tensor(2.8284), tensor(2.8284), tensor(2.8284))"
      ]
     },
     "metadata": {},
     "execution_count": 8
    }
   ],
   "source": [
    "a.norm(2),b.norm(2),c.norm(2)"
   ]
  },
  {
   "cell_type": "code",
   "execution_count": 10,
   "metadata": {},
   "outputs": [
    {
     "output_type": "execute_result",
     "data": {
      "text/plain": [
       "(tensor([4., 4.]), tensor([2., 2.]))"
      ]
     },
     "metadata": {},
     "execution_count": 10
    }
   ],
   "source": [
    "b.norm(1,dim=1), b.norm(2,dim=1)"
   ]
  },
  {
   "cell_type": "code",
   "execution_count": 13,
   "metadata": {},
   "outputs": [
    {
     "output_type": "execute_result",
     "data": {
      "text/plain": [
       "(tensor([[2., 2.],\n",
       "         [2., 2.]]),\n",
       " tensor([[1.4142, 1.4142],\n",
       "         [1.4142, 1.4142]]))"
      ]
     },
     "metadata": {},
     "execution_count": 13
    }
   ],
   "source": [
    "c.norm(1, dim=0), c.norm(2, dim=0)"
   ]
  },
  {
   "source": [
    "### mean, sum, min, max, prod"
   ],
   "cell_type": "markdown",
   "metadata": {}
  },
  {
   "cell_type": "code",
   "execution_count": 18,
   "metadata": {},
   "outputs": [
    {
     "output_type": "execute_result",
     "data": {
      "text/plain": [
       "tensor([[0., 1., 2., 3.],\n",
       "        [4., 5., 6., 7.]])"
      ]
     },
     "metadata": {},
     "execution_count": 18
    }
   ],
   "source": [
    "a = torch.arange(8).view(2,4).float()\n",
    "a"
   ]
  },
  {
   "cell_type": "code",
   "execution_count": 20,
   "metadata": {},
   "outputs": [
    {
     "output_type": "execute_result",
     "data": {
      "text/plain": [
       "(tensor(0.), tensor(7.), tensor(3.5000), tensor(0.), tensor(28.))"
      ]
     },
     "metadata": {},
     "execution_count": 20
    }
   ],
   "source": [
    "a.min(), a.max(), a.mean(), a.prod(), a.sum()"
   ]
  },
  {
   "cell_type": "code",
   "execution_count": 21,
   "metadata": {},
   "outputs": [
    {
     "output_type": "execute_result",
     "data": {
      "text/plain": [
       "(tensor(7), tensor(0))"
      ]
     },
     "metadata": {},
     "execution_count": 21
    }
   ],
   "source": [
    "a.argmax(), a.argmin()"
   ]
  },
  {
   "cell_type": "code",
   "execution_count": 22,
   "metadata": {},
   "outputs": [
    {
     "output_type": "execute_result",
     "data": {
      "text/plain": [
       "tensor([ 0.2772,  0.3845,  0.1878,  0.1184,  0.5666,  0.8003, -0.3315,  0.1877,\n",
       "         0.6845, -0.9124])"
      ]
     },
     "metadata": {},
     "execution_count": 22
    }
   ],
   "source": [
    "a = torch.randn(4,10)\n",
    "a[0]"
   ]
  },
  {
   "cell_type": "code",
   "execution_count": 23,
   "metadata": {},
   "outputs": [
    {
     "output_type": "execute_result",
     "data": {
      "text/plain": [
       "(tensor(24), tensor(36))"
      ]
     },
     "metadata": {},
     "execution_count": 23
    }
   ],
   "source": [
    "a.argmax(), a.argmin()"
   ]
  },
  {
   "cell_type": "code",
   "execution_count": 24,
   "metadata": {},
   "outputs": [
    {
     "output_type": "execute_result",
     "data": {
      "text/plain": [
       "(tensor([5, 5, 4, 8]), tensor([9, 6, 1, 6]))"
      ]
     },
     "metadata": {},
     "execution_count": 24
    }
   ],
   "source": [
    "a.argmax(dim=1), a.argmin(dim=1)"
   ]
  },
  {
   "source": [
    "### dim, keepdim"
   ],
   "cell_type": "markdown",
   "metadata": {}
  },
  {
   "cell_type": "code",
   "execution_count": 25,
   "metadata": {},
   "outputs": [
    {
     "output_type": "execute_result",
     "data": {
      "text/plain": [
       "(torch.return_types.max(\n",
       " values=tensor([0.8003, 1.1590, 2.2884, 2.0594]),\n",
       " indices=tensor([5, 5, 4, 8])),\n",
       " tensor([5, 5, 4, 8]))"
      ]
     },
     "metadata": {},
     "execution_count": 25
    }
   ],
   "source": [
    "a.max(dim=1), a.argmax(dim=1)\n",
    "# [4,10] ->[4],[4]"
   ]
  },
  {
   "cell_type": "code",
   "execution_count": 26,
   "metadata": {},
   "outputs": [
    {
     "output_type": "execute_result",
     "data": {
      "text/plain": [
       "(torch.return_types.max(\n",
       " values=tensor([[0.8003],\n",
       "         [1.1590],\n",
       "         [2.2884],\n",
       "         [2.0594]]),\n",
       " indices=tensor([[5],\n",
       "         [5],\n",
       "         [4],\n",
       "         [8]])),\n",
       " tensor([[5],\n",
       "         [5],\n",
       "         [4],\n",
       "         [8]]))"
      ]
     },
     "metadata": {},
     "execution_count": 26
    }
   ],
   "source": [
    "a.max(dim=1,keepdim=True), a.argmax(dim=1,keepdim=True)\n",
    "# [4,10] ->[4,1],[4,1]"
   ]
  },
  {
   "source": [
    "### top-k or k-th\n",
    "* .topk\n",
    "    * largest\n",
    "* kthvalue"
   ],
   "cell_type": "markdown",
   "metadata": {}
  },
  {
   "cell_type": "code",
   "execution_count": 27,
   "metadata": {},
   "outputs": [],
   "source": [
    "a = torch.randn(4,10)"
   ]
  },
  {
   "cell_type": "code",
   "execution_count": 28,
   "metadata": {},
   "outputs": [
    {
     "output_type": "execute_result",
     "data": {
      "text/plain": [
       "torch.return_types.topk(\n",
       "values=tensor([[ 3.0830,  0.8120,  0.3977],\n",
       "        [ 0.7366,  0.5481,  0.4729],\n",
       "        [ 0.6792,  0.3566, -0.1030],\n",
       "        [ 2.6085,  1.3539,  0.9137]]),\n",
       "indices=tensor([[3, 8, 9],\n",
       "        [7, 4, 3],\n",
       "        [1, 9, 5],\n",
       "        [0, 8, 3]]))"
      ]
     },
     "metadata": {},
     "execution_count": 28
    }
   ],
   "source": [
    "a.topk(3,dim=1)\n",
    "# largest topk"
   ]
  },
  {
   "cell_type": "code",
   "execution_count": 30,
   "metadata": {},
   "outputs": [
    {
     "output_type": "execute_result",
     "data": {
      "text/plain": [
       "torch.return_types.topk(\n",
       "values=tensor([[-2.0207, -1.7647, -1.2984],\n",
       "        [-1.7875, -0.5831, -0.3301],\n",
       "        [-2.0103, -1.2407, -0.6850],\n",
       "        [-0.8926, -0.4624, -0.2524]]),\n",
       "indices=tensor([[0, 6, 4],\n",
       "        [9, 1, 2],\n",
       "        [6, 3, 4],\n",
       "        [7, 6, 1]]))"
      ]
     },
     "metadata": {},
     "execution_count": 30
    }
   ],
   "source": [
    "a.topk(3,dim=1,largest=False)\n",
    "# least topk"
   ]
  },
  {
   "cell_type": "code",
   "execution_count": 31,
   "metadata": {},
   "outputs": [
    {
     "output_type": "execute_result",
     "data": {
      "text/plain": [
       "torch.return_types.kthvalue(\n",
       "values=tensor([ 0.3977,  0.4729, -0.1030,  0.9137]),\n",
       "indices=tensor([9, 3, 5, 3]))"
      ]
     },
     "metadata": {},
     "execution_count": 31
    }
   ],
   "source": [
    "a.kthvalue(8,dim=1)\n",
    "# least k-th"
   ]
  },
  {
   "source": [
    "### compare\n",
    "* '>, >=, <, <=, !=, =='\n",
    "* torch.eq(a,b)\n",
    "    * torch.equal(a,b)"
   ],
   "cell_type": "markdown",
   "metadata": {}
  },
  {
   "cell_type": "code",
   "execution_count": 35,
   "metadata": {},
   "outputs": [
    {
     "output_type": "execute_result",
     "data": {
      "text/plain": [
       "tensor([[False, False,  True,  True, False, False, False, False,  True,  True],\n",
       "        [ True, False, False,  True,  True,  True,  True,  True,  True, False],\n",
       "        [False,  True, False, False, False, False, False, False, False,  True],\n",
       "        [ True, False,  True,  True,  True,  True, False, False,  True,  True]])"
      ]
     },
     "metadata": {},
     "execution_count": 35
    }
   ],
   "source": [
    "a>0"
   ]
  },
  {
   "cell_type": "code",
   "execution_count": 36,
   "metadata": {},
   "outputs": [
    {
     "output_type": "execute_result",
     "data": {
      "text/plain": [
       "tensor([[False, False,  True,  True, False, False, False, False,  True,  True],\n",
       "        [ True, False, False,  True,  True,  True,  True,  True,  True, False],\n",
       "        [False,  True, False, False, False, False, False, False, False,  True],\n",
       "        [ True, False,  True,  True,  True,  True, False, False,  True,  True]])"
      ]
     },
     "metadata": {},
     "execution_count": 36
    }
   ],
   "source": [
    "torch.gt(a,0)"
   ]
  },
  {
   "cell_type": "code",
   "execution_count": 37,
   "metadata": {},
   "outputs": [
    {
     "output_type": "execute_result",
     "data": {
      "text/plain": [
       "tensor([[True, True, True, True, True, True, True, True, True, True],\n",
       "        [True, True, True, True, True, True, True, True, True, True],\n",
       "        [True, True, True, True, True, True, True, True, True, True],\n",
       "        [True, True, True, True, True, True, True, True, True, True]])"
      ]
     },
     "metadata": {},
     "execution_count": 37
    }
   ],
   "source": [
    "a!=0"
   ]
  },
  {
   "cell_type": "code",
   "execution_count": 39,
   "metadata": {},
   "outputs": [
    {
     "output_type": "execute_result",
     "data": {
      "text/plain": [
       "tensor([[False, False, False, False, False, False, False, False, False, False],\n",
       "        [False, False, False, False, False, False, False, False, False, False],\n",
       "        [False, False, False, False, False, False, False, False, False, False],\n",
       "        [False, False, False, False, False, False, False, False, False, False]])"
      ]
     },
     "metadata": {},
     "execution_count": 39
    }
   ],
   "source": [
    "b = torch.ones(4,10)\n",
    "torch.eq(a,b)"
   ]
  },
  {
   "cell_type": "code",
   "execution_count": 40,
   "metadata": {},
   "outputs": [
    {
     "output_type": "execute_result",
     "data": {
      "text/plain": [
       "False"
      ]
     },
     "metadata": {},
     "execution_count": 40
    }
   ],
   "source": [
    "torch.equal(a,b)"
   ]
  },
  {
   "source": [
    "## Tensor advanced operation\n",
    "* where\n",
    "* gather"
   ],
   "cell_type": "markdown",
   "metadata": {}
  },
  {
   "source": [
    "### where\n",
    "* torch.where(condition,x,y) -> Tensor\n",
    "    * Return a tensor of elements selected from either *x* or *y*, depending on *condition*. \n",
    "    * out_i = x_i, if condition_i; out_i = y_i, otherwise"
   ],
   "cell_type": "markdown",
   "metadata": {}
  },
  {
   "cell_type": "code",
   "execution_count": 42,
   "metadata": {},
   "outputs": [
    {
     "output_type": "execute_result",
     "data": {
      "text/plain": [
       "tensor([[0.7482, 0.4162],\n",
       "        [0.6800, 0.9378]])"
      ]
     },
     "metadata": {},
     "execution_count": 42
    }
   ],
   "source": [
    "cond = torch.rand(2,2)\n",
    "cond"
   ]
  },
  {
   "cell_type": "code",
   "execution_count": 48,
   "metadata": {},
   "outputs": [
    {
     "output_type": "execute_result",
     "data": {
      "text/plain": [
       "tensor([[0., 1.],\n",
       "        [0., 0.]])"
      ]
     },
     "metadata": {},
     "execution_count": 48
    }
   ],
   "source": [
    "a = torch.full([2,2],0.)\n",
    "b = torch.ones(2,2).float()\n",
    "torch.where(cond>0.5,a,b)"
   ]
  },
  {
   "source": [
    "### gather\n",
    "* torch.gather(input,dim,index,out=None) -> Tensor\n",
    "    * Gathers values along an axis specified by dim.\n",
    "    * For a 3 dim tensor the output is specified by:\n",
    "    * out[i][j][k] = input[index[i][j][k]][j][k]  if dim == 0\n",
    "    * out[i][j][k] = input[i][index[i][j][k]][k]  if dim == 1\n",
    "    * out[i][j][k] = input[i][j][index[i][j][k]]  if dim == 2\n",
    "* retrieve global label\n",
    "    * argmax(pred) to get relative labeling\n",
    "    * on some condition, our label is dinsitinct from relative labeling"
   ],
   "cell_type": "markdown",
   "metadata": {}
  },
  {
   "source": [
    "prob = torch.randn(4,10)\n",
    "idx = prob.topk(dim=1, k=3)\n",
    "idx = idx[1]\n",
    "label = torch.arange(10)+100\n",
    "torch.gather(label.expand(4,10),dim=1,index=idx.long())"
   ],
   "cell_type": "code",
   "metadata": {},
   "execution_count": 6,
   "outputs": [
    {
     "output_type": "execute_result",
     "data": {
      "text/plain": [
       "tensor([[109, 101, 105],\n",
       "        [103, 105, 109],\n",
       "        [100, 105, 106],\n",
       "        [105, 100, 104]])"
      ]
     },
     "metadata": {},
     "execution_count": 6
    }
   ]
  }
 ]
}