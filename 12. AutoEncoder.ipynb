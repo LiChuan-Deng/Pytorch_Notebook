{
 "metadata": {
  "language_info": {
   "codemirror_mode": {
    "name": "ipython",
    "version": 3
   },
   "file_extension": ".py",
   "mimetype": "text/x-python",
   "name": "python",
   "nbconvert_exporter": "python",
   "pygments_lexer": "ipython3",
   "version": 3
  },
  "orig_nbformat": 2
 },
 "nbformat": 4,
 "nbformat_minor": 2,
 "cells": [
  {
   "source": [
    "### AutoEncoder\n",
    "* Denoising AutoEncoders\n",
    "> Original Image --Noise--> Noisy Input ----> Encoder ---->Code ----> Decoder ----> Output\n",
    "\n",
    "* Dropout AutoEncoders\n",
    "* Adversarial AutoEncoders\n",
    "    * Distribution of hidden code\n",
    "    * Give more details after GAN"
   ],
   "cell_type": "markdown",
   "metadata": {}
  },
  {
   "cell_type": "code",
   "execution_count": null,
   "metadata": {},
   "outputs": [],
   "source": []
  }
 ]
}