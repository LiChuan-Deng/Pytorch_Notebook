{
 "metadata": {
  "language_info": {
   "codemirror_mode": {
    "name": "ipython",
    "version": 3
   },
   "file_extension": ".py",
   "mimetype": "text/x-python",
   "name": "python",
   "nbconvert_exporter": "python",
   "pygments_lexer": "ipython3",
   "version": 3
  },
  "orig_nbformat": 2
 },
 "nbformat": 4,
 "nbformat_minor": 2,
 "cells": [
  {
   "cell_type": "code",
   "execution_count": null,
   "metadata": {},
   "outputs": [],
   "source": []
  },
  {
   "source": [
    "## Big Data\n",
    "> The key to prevent Overfitting\n",
    "\n",
    "## Limited Data\n",
    "* Small network capacity\n",
    "* Regularization\n",
    "* Data argumentation\n",
    "> it will help, but not too much"
   ],
   "cell_type": "markdown",
   "metadata": {}
  },
  {
   "cell_type": "code",
   "execution_count": null,
   "metadata": {},
   "outputs": [],
   "source": [
    "# Recap\n",
    "cifar_train = datasets.CIFAR10('cifar', True, transform=transforms.Compose([\n",
    "    transforms.Resize((32,32)),\n",
    "    transforms.ToTensor()\n",
    "]), download=True)\n",
    "cifar_train = DataLoader(cifar_train, batch_size=batchsz, shuffle=True)\n",
    "\n",
    "cifar_test = datasets.CIFAR10('cifar', False, transform=transforms.Compose([\n",
    "    transforms.Resize((32,32)),\n",
    "    transforms.ToTensor()\n",
    "]), download=True)\n",
    "cifar_test = DataLoader(cifar_test, batch_size=batchsz, shuffle=True)\n"
   ]
  },
  {
   "source": [
    "### Data argumentation\n",
    "* Flip\n",
    "* Rotate\n",
    "* Scale\n",
    "* Random Move & Crop\n",
    "* Noise\n",
    "* GAN"
   ],
   "cell_type": "markdown",
   "metadata": {}
  },
  {
   "cell_type": "code",
   "execution_count": null,
   "metadata": {},
   "outputs": [],
   "source": [
    "train_loader = torch.utils.data.DataLoader(\n",
    "    datasets.MNIST('../data', train=True, download=True,\n",
    "        transform=transforms.Compose([\n",
    "            transforms.RandomHorizontalFlip(), ## Flip\n",
    "            transforms.RandomVerticalFlip(), ## Flip\n",
    "            \n",
    "            transforms.RandomRotation(15), ## Rotate in [-15,15]\n",
    "            transforms.RandomRotation([90,180,270]), ## Rotate\n",
    "            \n",
    "            transforms.Resize([32,32]), ## Scale\n",
    "\n",
    "            transforms.RandomCrop([28,28]), ## Crop Part\n",
    "            transforms.ToTensor(),\n",
    "        ])),\n",
    "\n",
    "    batch_size=batch_size, shuffle=True\n",
    ")\n",
    "\n"
   ]
  },
  {
   "cell_type": "code",
   "execution_count": null,
   "metadata": {},
   "outputs": [],
   "source": []
  },
  {
   "cell_type": "code",
   "execution_count": null,
   "metadata": {},
   "outputs": [],
   "source": []
  },
  {
   "cell_type": "code",
   "execution_count": null,
   "metadata": {},
   "outputs": [],
   "source": []
  },
  {
   "cell_type": "code",
   "execution_count": null,
   "metadata": {},
   "outputs": [],
   "source": []
  }
 ]
}